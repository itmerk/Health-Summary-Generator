{
 "cells": [
  {
   "cell_type": "code",
   "execution_count": null,
   "metadata": {},
   "outputs": [],
   "source": [
    "# Import necessary libraries\n",
    "import google.generativeai as genai\n",
    "import os\n",
    "\n",
    "# Assign the API Key from environment variables\n",
    "genai.configure(api_key=os.environ[\"GEMINI_API_KEY\"])"
   ]
  },
  {
   "cell_type": "code",
   "execution_count": null,
   "metadata": {},
   "outputs": [],
   "source": [
    "# Configuration settings for text generation\n",
    "generation_config = {\n",
    "  \"temperature\": 0.2,  # Controls the randomness of the response. Lower values make the model's output more deterministic.\n",
    "  \"top_p\": 0.95,       # Nucleus sampling parameter; the model considers tokens whose cumulative probability mass is within this value.\n",
    "  \"top_k\": 40,         # Limits the model to consider only the top k tokens during generation.\n",
    "  \"max_output_tokens\": 8192,  # Sets the maximum number of tokens (words or symbols) that can be generated in the response.\n",
    "  \"response_mime_type\": \"text/plain\",  # Specifies the format of the response; here, it is plain text.\n",
    "}"
   ]
  },
  {
   "cell_type": "code",
   "execution_count": null,
   "metadata": {},
   "outputs": [
    {
     "ename": "InvalidArgument",
     "evalue": "400 The request's total referenced files bytes are too large to be read",
     "output_type": "error",
     "traceback": [
      "\u001b[1;31m---------------------------------------------------------------------------\u001b[0m",
      "\u001b[1;31mInvalidArgument\u001b[0m                           Traceback (most recent call last)",
      "Cell \u001b[1;32mIn[6], line 7\u001b[0m\n\u001b[0;32m      1\u001b[0m model \u001b[38;5;241m=\u001b[39m genai\u001b[38;5;241m.\u001b[39mGenerativeModel(\n\u001b[0;32m      2\u001b[0m     model_name\u001b[38;5;241m=\u001b[39m\u001b[38;5;124m\"\u001b[39m\u001b[38;5;124mgemini-1.5-pro-002\u001b[39m\u001b[38;5;124m\"\u001b[39m,\n\u001b[0;32m      3\u001b[0m     generation_config\u001b[38;5;241m=\u001b[39mgeneration_config,\n\u001b[0;32m      4\u001b[0m     system_instruction\u001b[38;5;241m=\u001b[39m\u001b[38;5;124m\"\u001b[39m\u001b[38;5;124mAnswer Question for the PDF Attachment only\u001b[39m\u001b[38;5;124m\"\u001b[39m\n\u001b[0;32m      5\u001b[0m     )\n\u001b[0;32m      6\u001b[0m sample_file \u001b[38;5;241m=\u001b[39m genai\u001b[38;5;241m.\u001b[39mupload_file(\u001b[38;5;124m\"\u001b[39m\u001b[38;5;124mD:/data science/projects/my projects/Health Summary Generator/Media/sample_input.pdf\u001b[39m\u001b[38;5;124m\"\u001b[39m)\n\u001b[1;32m----> 7\u001b[0m response \u001b[38;5;241m=\u001b[39m \u001b[43mmodel\u001b[49m\u001b[38;5;241;43m.\u001b[39;49m\u001b[43mgenerate_content\u001b[49m\u001b[43m(\u001b[49m\u001b[43m[\u001b[49m\u001b[38;5;124;43m'\u001b[39;49m\u001b[38;5;124;43mGive me a summary of this pdf file in 20 words\u001b[39;49m\u001b[38;5;124;43m'\u001b[39;49m\u001b[43m,\u001b[49m\u001b[43msample_file\u001b[49m\u001b[43m]\u001b[49m\u001b[43m)\u001b[49m\n\u001b[0;32m      8\u001b[0m \u001b[38;5;28mprint\u001b[39m(response\u001b[38;5;241m.\u001b[39mtext)\n",
      "File \u001b[1;32md:\\data science\\projects\\my projects\\Health Summary Generator\\.venv\\Lib\\site-packages\\google\\generativeai\\generative_models.py:331\u001b[0m, in \u001b[0;36mGenerativeModel.generate_content\u001b[1;34m(self, contents, generation_config, safety_settings, stream, tools, tool_config, request_options)\u001b[0m\n\u001b[0;32m    329\u001b[0m         \u001b[38;5;28;01mreturn\u001b[39;00m generation_types\u001b[38;5;241m.\u001b[39mGenerateContentResponse\u001b[38;5;241m.\u001b[39mfrom_iterator(iterator)\n\u001b[0;32m    330\u001b[0m     \u001b[38;5;28;01melse\u001b[39;00m:\n\u001b[1;32m--> 331\u001b[0m         response \u001b[38;5;241m=\u001b[39m \u001b[38;5;28;43mself\u001b[39;49m\u001b[38;5;241;43m.\u001b[39;49m\u001b[43m_client\u001b[49m\u001b[38;5;241;43m.\u001b[39;49m\u001b[43mgenerate_content\u001b[49m\u001b[43m(\u001b[49m\n\u001b[0;32m    332\u001b[0m \u001b[43m            \u001b[49m\u001b[43mrequest\u001b[49m\u001b[43m,\u001b[49m\n\u001b[0;32m    333\u001b[0m \u001b[43m            \u001b[49m\u001b[38;5;241;43m*\u001b[39;49m\u001b[38;5;241;43m*\u001b[39;49m\u001b[43mrequest_options\u001b[49m\u001b[43m,\u001b[49m\n\u001b[0;32m    334\u001b[0m \u001b[43m        \u001b[49m\u001b[43m)\u001b[49m\n\u001b[0;32m    335\u001b[0m         \u001b[38;5;28;01mreturn\u001b[39;00m generation_types\u001b[38;5;241m.\u001b[39mGenerateContentResponse\u001b[38;5;241m.\u001b[39mfrom_response(response)\n\u001b[0;32m    336\u001b[0m \u001b[38;5;28;01mexcept\u001b[39;00m google\u001b[38;5;241m.\u001b[39mapi_core\u001b[38;5;241m.\u001b[39mexceptions\u001b[38;5;241m.\u001b[39mInvalidArgument \u001b[38;5;28;01mas\u001b[39;00m e:\n",
      "File \u001b[1;32md:\\data science\\projects\\my projects\\Health Summary Generator\\.venv\\Lib\\site-packages\\google\\ai\\generativelanguage_v1beta\\services\\generative_service\\client.py:830\u001b[0m, in \u001b[0;36mGenerativeServiceClient.generate_content\u001b[1;34m(self, request, model, contents, retry, timeout, metadata)\u001b[0m\n\u001b[0;32m    827\u001b[0m \u001b[38;5;28mself\u001b[39m\u001b[38;5;241m.\u001b[39m_validate_universe_domain()\n\u001b[0;32m    829\u001b[0m \u001b[38;5;66;03m# Send the request.\u001b[39;00m\n\u001b[1;32m--> 830\u001b[0m response \u001b[38;5;241m=\u001b[39m \u001b[43mrpc\u001b[49m\u001b[43m(\u001b[49m\n\u001b[0;32m    831\u001b[0m \u001b[43m    \u001b[49m\u001b[43mrequest\u001b[49m\u001b[43m,\u001b[49m\n\u001b[0;32m    832\u001b[0m \u001b[43m    \u001b[49m\u001b[43mretry\u001b[49m\u001b[38;5;241;43m=\u001b[39;49m\u001b[43mretry\u001b[49m\u001b[43m,\u001b[49m\n\u001b[0;32m    833\u001b[0m \u001b[43m    \u001b[49m\u001b[43mtimeout\u001b[49m\u001b[38;5;241;43m=\u001b[39;49m\u001b[43mtimeout\u001b[49m\u001b[43m,\u001b[49m\n\u001b[0;32m    834\u001b[0m \u001b[43m    \u001b[49m\u001b[43mmetadata\u001b[49m\u001b[38;5;241;43m=\u001b[39;49m\u001b[43mmetadata\u001b[49m\u001b[43m,\u001b[49m\n\u001b[0;32m    835\u001b[0m \u001b[43m\u001b[49m\u001b[43m)\u001b[49m\n\u001b[0;32m    837\u001b[0m \u001b[38;5;66;03m# Done; return the response.\u001b[39;00m\n\u001b[0;32m    838\u001b[0m \u001b[38;5;28;01mreturn\u001b[39;00m response\n",
      "File \u001b[1;32md:\\data science\\projects\\my projects\\Health Summary Generator\\.venv\\Lib\\site-packages\\google\\api_core\\gapic_v1\\method.py:131\u001b[0m, in \u001b[0;36m_GapicCallable.__call__\u001b[1;34m(self, timeout, retry, compression, *args, **kwargs)\u001b[0m\n\u001b[0;32m    128\u001b[0m \u001b[38;5;28;01mif\u001b[39;00m \u001b[38;5;28mself\u001b[39m\u001b[38;5;241m.\u001b[39m_compression \u001b[38;5;129;01mis\u001b[39;00m \u001b[38;5;129;01mnot\u001b[39;00m \u001b[38;5;28;01mNone\u001b[39;00m:\n\u001b[0;32m    129\u001b[0m     kwargs[\u001b[38;5;124m\"\u001b[39m\u001b[38;5;124mcompression\u001b[39m\u001b[38;5;124m\"\u001b[39m] \u001b[38;5;241m=\u001b[39m compression\n\u001b[1;32m--> 131\u001b[0m \u001b[38;5;28;01mreturn\u001b[39;00m \u001b[43mwrapped_func\u001b[49m\u001b[43m(\u001b[49m\u001b[38;5;241;43m*\u001b[39;49m\u001b[43margs\u001b[49m\u001b[43m,\u001b[49m\u001b[43m \u001b[49m\u001b[38;5;241;43m*\u001b[39;49m\u001b[38;5;241;43m*\u001b[39;49m\u001b[43mkwargs\u001b[49m\u001b[43m)\u001b[49m\n",
      "File \u001b[1;32md:\\data science\\projects\\my projects\\Health Summary Generator\\.venv\\Lib\\site-packages\\google\\api_core\\retry\\retry_unary.py:293\u001b[0m, in \u001b[0;36mRetry.__call__.<locals>.retry_wrapped_func\u001b[1;34m(*args, **kwargs)\u001b[0m\n\u001b[0;32m    289\u001b[0m target \u001b[38;5;241m=\u001b[39m functools\u001b[38;5;241m.\u001b[39mpartial(func, \u001b[38;5;241m*\u001b[39margs, \u001b[38;5;241m*\u001b[39m\u001b[38;5;241m*\u001b[39mkwargs)\n\u001b[0;32m    290\u001b[0m sleep_generator \u001b[38;5;241m=\u001b[39m exponential_sleep_generator(\n\u001b[0;32m    291\u001b[0m     \u001b[38;5;28mself\u001b[39m\u001b[38;5;241m.\u001b[39m_initial, \u001b[38;5;28mself\u001b[39m\u001b[38;5;241m.\u001b[39m_maximum, multiplier\u001b[38;5;241m=\u001b[39m\u001b[38;5;28mself\u001b[39m\u001b[38;5;241m.\u001b[39m_multiplier\n\u001b[0;32m    292\u001b[0m )\n\u001b[1;32m--> 293\u001b[0m \u001b[38;5;28;01mreturn\u001b[39;00m \u001b[43mretry_target\u001b[49m\u001b[43m(\u001b[49m\n\u001b[0;32m    294\u001b[0m \u001b[43m    \u001b[49m\u001b[43mtarget\u001b[49m\u001b[43m,\u001b[49m\n\u001b[0;32m    295\u001b[0m \u001b[43m    \u001b[49m\u001b[38;5;28;43mself\u001b[39;49m\u001b[38;5;241;43m.\u001b[39;49m\u001b[43m_predicate\u001b[49m\u001b[43m,\u001b[49m\n\u001b[0;32m    296\u001b[0m \u001b[43m    \u001b[49m\u001b[43msleep_generator\u001b[49m\u001b[43m,\u001b[49m\n\u001b[0;32m    297\u001b[0m \u001b[43m    \u001b[49m\u001b[43mtimeout\u001b[49m\u001b[38;5;241;43m=\u001b[39;49m\u001b[38;5;28;43mself\u001b[39;49m\u001b[38;5;241;43m.\u001b[39;49m\u001b[43m_timeout\u001b[49m\u001b[43m,\u001b[49m\n\u001b[0;32m    298\u001b[0m \u001b[43m    \u001b[49m\u001b[43mon_error\u001b[49m\u001b[38;5;241;43m=\u001b[39;49m\u001b[43mon_error\u001b[49m\u001b[43m,\u001b[49m\n\u001b[0;32m    299\u001b[0m \u001b[43m\u001b[49m\u001b[43m)\u001b[49m\n",
      "File \u001b[1;32md:\\data science\\projects\\my projects\\Health Summary Generator\\.venv\\Lib\\site-packages\\google\\api_core\\retry\\retry_unary.py:153\u001b[0m, in \u001b[0;36mretry_target\u001b[1;34m(target, predicate, sleep_generator, timeout, on_error, exception_factory, **kwargs)\u001b[0m\n\u001b[0;32m    149\u001b[0m \u001b[38;5;66;03m# pylint: disable=broad-except\u001b[39;00m\n\u001b[0;32m    150\u001b[0m \u001b[38;5;66;03m# This function explicitly must deal with broad exceptions.\u001b[39;00m\n\u001b[0;32m    151\u001b[0m \u001b[38;5;28;01mexcept\u001b[39;00m \u001b[38;5;167;01mException\u001b[39;00m \u001b[38;5;28;01mas\u001b[39;00m exc:\n\u001b[0;32m    152\u001b[0m     \u001b[38;5;66;03m# defer to shared logic for handling errors\u001b[39;00m\n\u001b[1;32m--> 153\u001b[0m     \u001b[43m_retry_error_helper\u001b[49m\u001b[43m(\u001b[49m\n\u001b[0;32m    154\u001b[0m \u001b[43m        \u001b[49m\u001b[43mexc\u001b[49m\u001b[43m,\u001b[49m\n\u001b[0;32m    155\u001b[0m \u001b[43m        \u001b[49m\u001b[43mdeadline\u001b[49m\u001b[43m,\u001b[49m\n\u001b[0;32m    156\u001b[0m \u001b[43m        \u001b[49m\u001b[43msleep\u001b[49m\u001b[43m,\u001b[49m\n\u001b[0;32m    157\u001b[0m \u001b[43m        \u001b[49m\u001b[43merror_list\u001b[49m\u001b[43m,\u001b[49m\n\u001b[0;32m    158\u001b[0m \u001b[43m        \u001b[49m\u001b[43mpredicate\u001b[49m\u001b[43m,\u001b[49m\n\u001b[0;32m    159\u001b[0m \u001b[43m        \u001b[49m\u001b[43mon_error\u001b[49m\u001b[43m,\u001b[49m\n\u001b[0;32m    160\u001b[0m \u001b[43m        \u001b[49m\u001b[43mexception_factory\u001b[49m\u001b[43m,\u001b[49m\n\u001b[0;32m    161\u001b[0m \u001b[43m        \u001b[49m\u001b[43mtimeout\u001b[49m\u001b[43m,\u001b[49m\n\u001b[0;32m    162\u001b[0m \u001b[43m    \u001b[49m\u001b[43m)\u001b[49m\n\u001b[0;32m    163\u001b[0m     \u001b[38;5;66;03m# if exception not raised, sleep before next attempt\u001b[39;00m\n\u001b[0;32m    164\u001b[0m     time\u001b[38;5;241m.\u001b[39msleep(sleep)\n",
      "File \u001b[1;32md:\\data science\\projects\\my projects\\Health Summary Generator\\.venv\\Lib\\site-packages\\google\\api_core\\retry\\retry_base.py:212\u001b[0m, in \u001b[0;36m_retry_error_helper\u001b[1;34m(exc, deadline, next_sleep, error_list, predicate_fn, on_error_fn, exc_factory_fn, original_timeout)\u001b[0m\n\u001b[0;32m    206\u001b[0m \u001b[38;5;28;01mif\u001b[39;00m \u001b[38;5;129;01mnot\u001b[39;00m predicate_fn(exc):\n\u001b[0;32m    207\u001b[0m     final_exc, source_exc \u001b[38;5;241m=\u001b[39m exc_factory_fn(\n\u001b[0;32m    208\u001b[0m         error_list,\n\u001b[0;32m    209\u001b[0m         RetryFailureReason\u001b[38;5;241m.\u001b[39mNON_RETRYABLE_ERROR,\n\u001b[0;32m    210\u001b[0m         original_timeout,\n\u001b[0;32m    211\u001b[0m     )\n\u001b[1;32m--> 212\u001b[0m     \u001b[38;5;28;01mraise\u001b[39;00m final_exc \u001b[38;5;28;01mfrom\u001b[39;00m \u001b[38;5;21;01msource_exc\u001b[39;00m\n\u001b[0;32m    213\u001b[0m \u001b[38;5;28;01mif\u001b[39;00m on_error_fn \u001b[38;5;129;01mis\u001b[39;00m \u001b[38;5;129;01mnot\u001b[39;00m \u001b[38;5;28;01mNone\u001b[39;00m:\n\u001b[0;32m    214\u001b[0m     on_error_fn(exc)\n",
      "File \u001b[1;32md:\\data science\\projects\\my projects\\Health Summary Generator\\.venv\\Lib\\site-packages\\google\\api_core\\retry\\retry_unary.py:144\u001b[0m, in \u001b[0;36mretry_target\u001b[1;34m(target, predicate, sleep_generator, timeout, on_error, exception_factory, **kwargs)\u001b[0m\n\u001b[0;32m    142\u001b[0m \u001b[38;5;28;01mfor\u001b[39;00m sleep \u001b[38;5;129;01min\u001b[39;00m sleep_generator:\n\u001b[0;32m    143\u001b[0m     \u001b[38;5;28;01mtry\u001b[39;00m:\n\u001b[1;32m--> 144\u001b[0m         result \u001b[38;5;241m=\u001b[39m \u001b[43mtarget\u001b[49m\u001b[43m(\u001b[49m\u001b[43m)\u001b[49m\n\u001b[0;32m    145\u001b[0m         \u001b[38;5;28;01mif\u001b[39;00m inspect\u001b[38;5;241m.\u001b[39misawaitable(result):\n\u001b[0;32m    146\u001b[0m             warnings\u001b[38;5;241m.\u001b[39mwarn(_ASYNC_RETRY_WARNING)\n",
      "File \u001b[1;32md:\\data science\\projects\\my projects\\Health Summary Generator\\.venv\\Lib\\site-packages\\google\\api_core\\timeout.py:120\u001b[0m, in \u001b[0;36mTimeToDeadlineTimeout.__call__.<locals>.func_with_timeout\u001b[1;34m(*args, **kwargs)\u001b[0m\n\u001b[0;32m    117\u001b[0m     \u001b[38;5;66;03m# Avoid setting negative timeout\u001b[39;00m\n\u001b[0;32m    118\u001b[0m     kwargs[\u001b[38;5;124m\"\u001b[39m\u001b[38;5;124mtimeout\u001b[39m\u001b[38;5;124m\"\u001b[39m] \u001b[38;5;241m=\u001b[39m \u001b[38;5;28mmax\u001b[39m(\u001b[38;5;241m0\u001b[39m, \u001b[38;5;28mself\u001b[39m\u001b[38;5;241m.\u001b[39m_timeout \u001b[38;5;241m-\u001b[39m time_since_first_attempt)\n\u001b[1;32m--> 120\u001b[0m \u001b[38;5;28;01mreturn\u001b[39;00m \u001b[43mfunc\u001b[49m\u001b[43m(\u001b[49m\u001b[38;5;241;43m*\u001b[39;49m\u001b[43margs\u001b[49m\u001b[43m,\u001b[49m\u001b[43m \u001b[49m\u001b[38;5;241;43m*\u001b[39;49m\u001b[38;5;241;43m*\u001b[39;49m\u001b[43mkwargs\u001b[49m\u001b[43m)\u001b[49m\n",
      "File \u001b[1;32md:\\data science\\projects\\my projects\\Health Summary Generator\\.venv\\Lib\\site-packages\\google\\api_core\\grpc_helpers.py:78\u001b[0m, in \u001b[0;36m_wrap_unary_errors.<locals>.error_remapped_callable\u001b[1;34m(*args, **kwargs)\u001b[0m\n\u001b[0;32m     76\u001b[0m     \u001b[38;5;28;01mreturn\u001b[39;00m callable_(\u001b[38;5;241m*\u001b[39margs, \u001b[38;5;241m*\u001b[39m\u001b[38;5;241m*\u001b[39mkwargs)\n\u001b[0;32m     77\u001b[0m \u001b[38;5;28;01mexcept\u001b[39;00m grpc\u001b[38;5;241m.\u001b[39mRpcError \u001b[38;5;28;01mas\u001b[39;00m exc:\n\u001b[1;32m---> 78\u001b[0m     \u001b[38;5;28;01mraise\u001b[39;00m exceptions\u001b[38;5;241m.\u001b[39mfrom_grpc_error(exc) \u001b[38;5;28;01mfrom\u001b[39;00m \u001b[38;5;21;01mexc\u001b[39;00m\n",
      "\u001b[1;31mInvalidArgument\u001b[0m: 400 The request's total referenced files bytes are too large to be read"
     ]
    }
   ],
   "source": [
    "# Initialize the Generative Model with the specified model name and generation configuration\n",
    "model = genai.GenerativeModel(\n",
    "    model_name=\"gemini-1.5-pro\",  # Specify the model name to use\n",
    "    generation_config=generation_config,  # Provide the generation settings (e.g., temperature, max tokens)\n",
    "    system_instruction=\"Answer Question for the PDF Attachment only\"  # Set system instruction for model to answer only based on the provided PDF\n",
    ")\n",
    "\n",
    "# Upload the PDF file to the model for processing\n",
    "sample_file = genai.upload_file(\"D:/data science/projects/my projects/Health Summary Generator/Media/sample_input.pdf\")\n",
    "\n",
    "# Generate content based on the uploaded PDF and a user-provided prompt (summary in 20 words)\n",
    "response = model.generate_content(['Give me a summary of this pdf file in 20 words', sample_file])\n",
    "\n",
    "# Print the generated response text from the model\n",
    "print(response.text)"
   ]
  },
  {
   "cell_type": "markdown",
   "metadata": {},
   "source": [
    "##  Getting Error while read as one file so split into three file and check with one part check any error"
   ]
  },
  {
   "cell_type": "code",
   "execution_count": 5,
   "metadata": {},
   "outputs": [
    {
     "name": "stdout",
     "output_type": "stream",
     "text": [
      "Buckshot, a 6-year-old French Bulldog, received regular wellness exams, vaccinations, and various medications for several health issues.\n"
     ]
    }
   ],
   "source": [
    "model = genai.GenerativeModel(\n",
    "    model_name=\"gemini-1.5-pro\",\n",
    "    generation_config=generation_config,\n",
    "    system_instruction=\"Answer Question for the PDF Attachment only\"\n",
    "    )\n",
    "\n",
    "sample_file = genai.upload_file(\"D:/data science/projects/my projects/Health Summary Generator/Media/sample_input_part_1.pdf\")\n",
    "response = model.generate_content(['Give me a summary of this pdf file in 20 words',sample_file])\n",
    "print(response.text)"
   ]
  },
  {
   "cell_type": "code",
   "execution_count": 8,
   "metadata": {},
   "outputs": [],
   "source": [
    "generation_config = {\n",
    "  \"temperature\": 0.2,\n",
    "  \"top_p\": 0.95,\n",
    "  \"top_k\": 40,\n",
    "  \"max_output_tokens\": 8192,\n",
    "  \"response_mime_type\": \"text/plain\",\n",
    "}\n",
    "multi_model = genai.GenerativeModel(\n",
    "    model_name=\"gemini-1.5-pro\",\n",
    "    generation_config=generation_config,\n",
    "    system_instruction=\"Answer Question for the PDF Attachment only\"\n",
    "    )"
   ]
  },
  {
   "cell_type": "code",
   "execution_count": null,
   "metadata": {},
   "outputs": [
    {
     "name": "stdout",
     "output_type": "stream",
     "text": [
      "This document details the terms and conditions for the Erasmus+  Student Mobility for Traineeships program at the University of Parma, outlining eligibility, application procedures, learning agreements, financial support, and responsibilities for both incoming and outgoing students.\n",
      "\n"
     ]
    }
   ],
   "source": [
    "# Import the PdfReader from PyPDF2 to read and extract text from PDF files\n",
    "from PyPDF2 import PdfReader  # Assuming you use PyPDF2 to read PDFs\n",
    "\n",
    "# Function to read and extract text from PDF files\n",
    "def extract_text_from_pdf(pdf_path):\n",
    "    # Create a PDF reader object for the given file path\n",
    "    reader = PdfReader(pdf_path)\n",
    "    \n",
    "    # Initialize an empty string to store the extracted text\n",
    "    text = \"\"\n",
    "    \n",
    "    # Loop through each page in the PDF and extract its text\n",
    "    for page in reader.pages:\n",
    "        text += page.extract_text()  # Append the extracted text to the text variable\n",
    "    \n",
    "    # Return the combined text extracted from the PDF\n",
    "    return text\n",
    "\n",
    "# Extract text from each of the three PDF files\n",
    "text_file_1 = extract_text_from_pdf(\"D:/data science/projects/my projects/Health Summary Generator/Media/sample_input_part_1.pdf\")\n",
    "text_file_2 = extract_text_from_pdf(\"D:/data science/projects/my projects/Health Summary Generator/Media/sample_input_part_2.pdf\")\n",
    "text_file_3 = extract_text_from_pdf(\"D:/data science/projects/my projects/Health Summary Generator/Media/sample_input_part_3.pdf\")\n",
    "\n",
    "# Combine the extracted text from all three PDFs into one string\n",
    "combined_text = f\"{text_file_1}\\n{text_file_2}\\n{text_file_3}\"\n",
    "\n",
    "# Define the prompt to summarize all the documents in 50 words\n",
    "prompt = \"Summarize all these documents in 50 words\"\n",
    "\n",
    "# Run the model on the combined text with the provided prompt\n",
    "response = multi_model.generate_content([prompt, combined_text])\n",
    "\n",
    "# Print the generated summary response from the model\n",
    "print(response.text)"
   ]
  },
  {
   "cell_type": "code",
   "execution_count": 11,
   "metadata": {},
   "outputs": [],
   "source": [
    "generation_config = {\n",
    "  \"temperature\": 0.2,\n",
    "  \"top_p\": 0.95,\n",
    "  \"top_k\": 40,\n",
    "  \"max_output_tokens\": 8192,\n",
    "  \"response_mime_type\": \"text/plain\",\n",
    "}\n",
    "multi_model = genai.GenerativeModel(\n",
    "    model_name=\"gemini-1.5-pro\",\n",
    "    generation_config=generation_config,\n",
    "    system_instruction=\"Answer Question for the PDF Attachment only\"\n",
    "    )"
   ]
  },
  {
   "cell_type": "code",
   "execution_count": null,
   "metadata": {},
   "outputs": [
    {
     "name": "stdout",
     "output_type": "stream",
     "text": [
      "Buckshot, a 6-year-old French Bulldog, has a history of gastrointestinal issues, skin allergies, and ear infections.  He is frequently treated with various medications, including prednisone, metronidazole, and Chinese herbal remedies.  He also receives regular wellness exams and boarding services.\n"
     ]
    }
   ],
   "source": [
    "prompt = \"Summarize all these documents in 50 words\"\n",
    "\n",
    "response = multi_model.generate_content([prompt,combined_text])\n",
    "\n",
    "print(response.text)"
   ]
  },
  {
   "cell_type": "code",
   "execution_count": null,
   "metadata": {},
   "outputs": [
    {
     "name": "stdout",
     "output_type": "stream",
     "text": [
      "Client Information:\n",
      "\n",
      "* **Name:** Teleah Grand\n",
      "* **Phone Number:** 214.563-1688\n",
      "* **Address:** 2200 Victory Ave #702, Dallas, TX 75219\n",
      "* **Email Address:** Not available in the provided document.\n"
     ]
    }
   ],
   "source": [
    "prompt = \"Tell Client information name, phone number, address, email address detail\"\n",
    "\n",
    "response = multi_model.generate_content([prompt, combined_text])\n",
    "\n",
    "print(response.text)"
   ]
  },
  {
   "cell_type": "code",
   "execution_count": null,
   "metadata": {},
   "outputs": [
    {
     "name": "stdout",
     "output_type": "stream",
     "text": [
      "**Patient Information:**\n",
      "\n",
      "* **Name:** Buckshot\n",
      "* **Breed:** French Bulldog\n",
      "* **DOB:** February 28, 2018 (6 years old at the time of the last record)\n",
      "* **Gender:** Neutered Male\n",
      "* **Microchip Number:** 981020021462501\n"
     ]
    }
   ],
   "source": [
    "prompt = \"Tell Patient information Name, Breed, DOB or Age, Gender, Microship number\"\n",
    "\n",
    "response = multi_model.generate_content([prompt, combined_text])\n",
    "\n",
    "print(response.text)"
   ]
  },
  {
   "cell_type": "code",
   "execution_count": null,
   "metadata": {},
   "outputs": [
    {
     "name": "stdout",
     "output_type": "stream",
     "text": [
      "**Visit Date:**  June 21, 2019\n",
      "\n",
      "**Clinic Name:** Animal Care Center at Stonebridge Ranch\n",
      "\n",
      "**Phone Number:** 214.563-1688\n"
     ]
    }
   ],
   "source": [
    "prompt = \"Tell Veterinary Clinic Information as Visit Data, Clinic Name, Phone number\"\n",
    "\n",
    "response = multi_model.generate_content([prompt, combined_text])\n",
    "\n",
    "print(response.text)"
   ]
  },
  {
   "cell_type": "code",
   "execution_count": null,
   "metadata": {},
   "outputs": [
    {
     "name": "stdout",
     "output_type": "stream",
     "text": [
      "The following vaccinations were given to Buckshot:\n",
      "\n",
      "* **Rabies Vaccination:** June 1, 2019. No manufacturer tag number is available.\n",
      "* **DA2P-Parvo:** June 21, 2019. No manufacturer tag number is available.\n",
      "* **Bordetella:** November 7, 2024. Manufacturer: Intervet.\n",
      "* **Bordetella:** October 12, 2023. Manufacturer: Intervet. Vaccine Num: 0408287.\n",
      "* **Bordetella:** January 16, 2023. Manufacturer: Intervet. Vaccine Num: 0408276.\n",
      "* **Bordetella:** January 23, 2023. Manufacturer: Intervet. Vaccine Num: 0408276.\n"
     ]
    }
   ],
   "source": [
    "prompt = \"Tell about Vaccinations information such as Vaccine, Date, Manufacturer tag number\"\n",
    "\n",
    "response = multi_model.generate_content([prompt, combined_text])\n",
    "\n",
    "print(response.text)"
   ]
  },
  {
   "cell_type": "code",
   "execution_count": null,
   "metadata": {},
   "outputs": [
    {
     "name": "stdout",
     "output_type": "stream",
     "text": [
      "The provided medical chart shows Buckshot's weight was recorded on the following dates:\n",
      "\n",
      "* **Sep 12, 2024:** 26.00 lb\n",
      "* **May 08, 2024:** 25.50 lb\n",
      "* **May 03, 2023:** 20.40 lb\n",
      "* **Feb 28, 2023:** 21.50 lb\n",
      "\n",
      "\n",
      "There is no weight information available for Date 5.\n"
     ]
    }
   ],
   "source": [
    "prompt = \"Tell about medical information as Marker wieght for date 1 to date 5\"\n",
    "\n",
    "response = multi_model.generate_content([prompt,combined_text])\n",
    "\n",
    "print(response.text)"
   ]
  },
  {
   "cell_type": "code",
   "execution_count": null,
   "metadata": {},
   "outputs": [
    {
     "name": "stdout",
     "output_type": "stream",
     "text": [
      "The patient's address is 2200 Victory Ave #702, Dallas, TX 75219.\n"
     ]
    }
   ],
   "source": [
    "prompt = \"Patient alters detial\"\n",
    "\n",
    "response = multi_model.generate_content([prompt, combined_text])\n",
    "\n",
    "print(response.text)"
   ]
  },
  {
   "cell_type": "code",
   "execution_count": null,
   "metadata": {},
   "outputs": [
    {
     "name": "stdout",
     "output_type": "stream",
     "text": [
      "The following medications are listed in the provided medical chart:\n",
      "\n",
      "* **SiWuXiaoFP90:** Concentrated Si Wu Xiao Feng 90g Powder\n",
      "* **Pred5:** Prednisone 5mg\n",
      "* **Metoclo10:** Metoclopramide 10mg\n",
      "* **Metroni250:** Metronidazole 250mg\n",
      "* **EpimedP90:** Concentrated Epimedium 90g Powder\n",
      "* **ShenLingP90:** Concentrated Shen Ling Bai Zhu 90g powder\n",
      "* **VisbiomeVetCap:** Visbiome Vet Probiotic #40 Capsules\n",
      "* **Ondans4mgDiss:** Ondansetron 4mg dissolvable\n",
      "* **BNT Ointment:** BNT Ointment 16oz jar\n",
      "* **Triamcinolone:** Triamcinolone 6mg/ml (10ml bottle)\n",
      "* **ProPectalin30ml:** Pro Pectalin Anti Diarrhea Gel 30ml\n",
      "* **Sucralfate:** Sucralfate 1gm\n",
      "* **Budesonide:** Budesonide 1mg/chew (chicken), Budesonide 2mg/chew (chicken), Budesonide 2mg/ml\n",
      "* **Cytopoint Blush:** Cytopoint 30mg Injection\n",
      "* **Cerenia:** Cerenia 60mg tablets, Cerenia Injection 10mg/ml\n",
      "* **ProPectalin Tab:** Pro Pectalin Anti Diarrhea 1 gr Tablets\n",
      "* **Gabapentin:** Gabapentin 100mg\n",
      "* **Xiao YaoC5:** Concentrated Xiao Yao San 0.5g #100\n",
      "* **BaoHeWanC5:** Concentrated Bao He Wan 0.5g #100\n",
      "* **Ace25:** Acepromazine 25mg\n",
      "* **Alprazolam1mg:** Alprazolam 1mg\n",
      "* **Trazodone:** Trazadone 50mg, Trazadone 100mg\n",
      "* **GeXiaZhuC5:** Concentrated Ge Xia Zhu Yu 0.5g #100\n",
      "* **SimpleraOtic:** Simplera Otic(Florfenciol/Terbinafine/Mometasone) 1ml/tube\n",
      "* **GIPanel/TAMU:** Serum TLI/PLI/Cobalamin/Folate\n",
      "* **Ketoconazole:** Ketoconazole 200mg\n",
      "* **GreatSausCopC5:** Concentrated Great Saussurea Coptis 0.5g #100\n",
      "* **CervFormC5:** Concentrated Cervical/Neck Formula 0.5 #100\n",
      "* **CervFormC2:** Concentrated Cervical/Neck Formula 0.2g #50\n",
      "* **ShenLingC2:** Concentrated Shen Ling Bai Zhu 0.2g #50\n",
      "* **Metroni500:** Metronidazole 500mg\n",
      "* **Dexamethasone SP Injection:** Dexamethasone SP Injection 4mg/ml\n",
      "* **Metoclopramide Injection:** Metoclopramide 5mg/ml Injection\n",
      "\n",
      "\n",
      "The provided information does not include the RX numbers for all medications.  Additionally, the \"number\" of tablets/capsules/etc. dispensed is provided for many, but not all, of the medications.  It is also unclear what \"strength\" refers to in the prompt.  If this refers to concentration, that information is included above.\n",
      "\n"
     ]
    }
   ],
   "source": [
    "prompt = \"Some medications such as medicine name, strenght, number, RX description\"\n",
    "\n",
    "response = multi_model.generate_content([prompt, combined_text])\n",
    "\n",
    "print(response.text)"
   ]
  },
  {
   "cell_type": "code",
   "execution_count": null,
   "metadata": {},
   "outputs": [
    {
     "name": "stdout",
     "output_type": "stream",
     "text": [
      "The provided medical chart does not contain any laboratory graphs. It primarily consists of patient information, medical history, medications prescribed, and boarding notes.  There are lab *results* listed, but no graphical representation of those results over time. Therefore, I cannot provide any laboratory graphs from this document.\n"
     ]
    }
   ],
   "source": [
    "prompt = \"Give some Laboratory graph in chemistry lab report in marker form Date 1 to Date 6\"\n",
    "\n",
    "response = multi_model.generate_content([prompt,combined_text])\n",
    "\n",
    "print(response.text)"
   ]
  },
  {
   "cell_type": "code",
   "execution_count": null,
   "metadata": {},
   "outputs": [
    {
     "name": "stdout",
     "output_type": "stream",
     "text": [
      "The provided medical charts do not contain any graphs of CBC (Complete Blood Count) lab results.  While there are multiple instances of CBC tests being ordered and results recorded numerically, there are no visual graph representations of these results over time.\n"
     ]
    }
   ],
   "source": [
    "prompt = \"Give some Laboratory graph in CBC lab report in marker form Date 1 to Date 6\"\n",
    "\n",
    "response = multi_model.generate_content([prompt, combined_text])\n",
    "\n",
    "print(response.text)"
   ]
  },
  {
   "cell_type": "code",
   "execution_count": null,
   "metadata": {},
   "outputs": [
    {
     "name": "stdout",
     "output_type": "stream",
     "text": [
      "The provided medical chart does not contain any laboratory graphs. It does, however, list laboratory results in table format for various dates, including blood tests (superchem with SDMA, CBC), urinalysis, and fecal tests.  These results are given as numerical values with reference ranges, not as graphs.  There are also some notes regarding cytology.  While the information could be plotted on a graph, it is not presented that way in the document.\n"
     ]
    }
   ],
   "source": [
    "prompt = \"Give some Laboratory graph in Endocrinology lab report in marker form Date 1 to Date 6\"\n",
    "\n",
    "response = multi_model.generate_content([prompt, combined_text])\n",
    "\n",
    "print(response.text)"
   ]
  },
  {
   "cell_type": "code",
   "execution_count": null,
   "metadata": {},
   "outputs": [
    {
     "name": "stdout",
     "output_type": "stream",
     "text": [
      "The provided medical chart does not contain any graphs related to urinalysis results. It does, however, contain numerical urinalysis results from May 7, 2024, and October 6, 2022.  If you would like me to create a graph from the provided numerical data, please let me know.\n"
     ]
    }
   ],
   "source": [
    "prompt = \"Give some Laboratory graph in Urinalysis lab report in marker form Date 1 to Date 6\"\n",
    "\n",
    "response = multi_model.generate_content([prompt, combined_text])\n",
    "\n",
    "print(response.text)"
   ]
  },
  {
   "cell_type": "code",
   "execution_count": null,
   "metadata": {},
   "outputs": [
    {
     "name": "stdout",
     "output_type": "stream",
     "text": [
      "The provided lab report does not contain any graphs. It contains lab results in table format for blood count, urinalysis, and chemistry panels. There are also notes regarding heartworm antigen testing, but no graphical representation of results over time.\n"
     ]
    }
   ],
   "source": [
    "prompt = \"Give some Laboratory graph in Heartworm test lab report in marker form Date 1 to Date 6\"\n",
    "\n",
    "response = multi_model.generate_content([prompt, combined_text])\n",
    "\n",
    "print(response.text)"
   ]
  },
  {
   "cell_type": "code",
   "execution_count": null,
   "metadata": {},
   "outputs": [
    {
     "name": "stdout",
     "output_type": "stream",
     "text": [
      "The provided medical record does not contain any fecal results presented in graph form. It does contain records of fecal exams ordered, but the results are given in a descriptive format rather than a graph.  For example, the fecal exam from May 7, 2024, notes \"Ova & Parasite: NONE SEEN\".  There are no markers or numerical data over time to create a graph from.\n"
     ]
    }
   ],
   "source": [
    "prompt = \"Give some Laboratory graph in Fecal results lab report in marker form Date 1 to Date 6\"\n",
    "\n",
    "response = multi_model.generate_content([prompt,combined_text])\n",
    "\n",
    "print(response.text)"
   ]
  },
  {
   "cell_type": "code",
   "execution_count": null,
   "metadata": {},
   "outputs": [
    {
     "name": "stdout",
     "output_type": "stream",
     "text": [
      "The provided medical charts do not contain any laboratory graphs.  They do, however, contain lab *results* in table form from various dates.  For example, bloodwork results (superchem, CBC) and urinalysis results are shown for May 7th, 2024 and October 6th, 2022.  There is also a GI panel result mentioned for February 27th, 2023.  No graphed data is present.\n"
     ]
    }
   ],
   "source": [
    "prompt = \"Give some Laboratory graph in other results lab report in marker form Date 1 to Date 6\"\n",
    "\n",
    "response = multi_model.generate_content([prompt, combined_text])\n",
    "\n",
    "print(response.text)"
   ]
  },
  {
   "cell_type": "code",
   "execution_count": null,
   "metadata": {},
   "outputs": [
    {
     "name": "stdout",
     "output_type": "stream",
     "text": [
      "Page 3:\n",
      "* **Date:** May 7, 2024\n",
      "* **Position:** Not specified\n",
      "* **Results:** Senior Wellness Profile (SA745): Superchem, CBC, T4, UA, HWT, and fecal. Renal labs stable, rods in urine.\n",
      "\n",
      "Page 13:\n",
      "* **Date:** January 23, 2023\n",
      "* **Position:** Not specified\n",
      "* **Results:** Radiographs taken. Hemivertebrae and butterfly vertebrae thoracic. Varying disc spaces from C5-C7.\n"
     ]
    }
   ],
   "source": [
    "prompt = \"Give Imaging of radio graphs of date, position and results\"\n",
    "\n",
    "response = multi_model.generate_content([prompt, combined_text])\n",
    "\n",
    "print(response.text)"
   ]
  },
  {
   "cell_type": "code",
   "execution_count": null,
   "metadata": {},
   "outputs": [
    {
     "name": "stdout",
     "output_type": "stream",
     "text": [
      "The ultrasound (AUS/TFAST) performed on June 24, 2022 showed cystic kidneys bilaterally and slight sludge in the gall bladder. No other significant findings were noted.\n"
     ]
    }
   ],
   "source": [
    "prompt = \"Give Imaging of ultrasound of date, position and results\"\n",
    "\n",
    "response = multi_model.generate_content([prompt, combined_text])\n",
    "\n",
    "print(response.text)"
   ]
  }
 ],
 "metadata": {
  "kernelspec": {
   "display_name": ".venv",
   "language": "python",
   "name": "python3"
  },
  "language_info": {
   "codemirror_mode": {
    "name": "ipython",
    "version": 3
   },
   "file_extension": ".py",
   "mimetype": "text/x-python",
   "name": "python",
   "nbconvert_exporter": "python",
   "pygments_lexer": "ipython3",
   "version": "3.12.2"
  }
 },
 "nbformat": 4,
 "nbformat_minor": 2
}
