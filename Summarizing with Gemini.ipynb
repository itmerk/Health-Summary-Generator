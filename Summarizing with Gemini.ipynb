{
 "cells": [
  {
   "cell_type": "code",
   "execution_count": null,
   "metadata": {},
   "outputs": [],
   "source": [
    "# Simple Example of text summarize using Gemini"
   ]
  },
  {
   "cell_type": "code",
   "execution_count": null,
   "metadata": {},
   "outputs": [],
   "source": [
    "# Import the necessary library\n",
    "import google.generativeai as genai\n",
    "\n",
    "# Assign the API Key\n",
    "Gemini_api_key = \"YOUR_API_KEY\"  # Replace with your actual API key\n",
    "genai.configure(api_key=Gemini_api_key)"
   ]
  },
  {
   "cell_type": "code",
   "execution_count": null,
   "metadata": {},
   "outputs": [
    {
     "name": "stdout",
     "output_type": "stream",
     "text": [
      "AI uses algorithms to learn from data, identify patterns, and make decisions or predictions, mimicking human intelligence.\n",
      "\n"
     ]
    }
   ],
   "source": [
    "# Initialize the Generative Model with the specified model name\n",
    "model = genai.GenerativeModel(\"gemini-1.5-pro\")\n",
    "\n",
    "# Generate content using the model, providing a prompt for AI explanation\n",
    "response = model.generate_content(\"Explain how AI works in 20 words\")\n",
    "\n",
    "# Print the generated response text from the model\n",
    "print(response.text)"
   ]
  },
  {
   "cell_type": "code",
   "execution_count": null,
   "metadata": {},
   "outputs": [
    {
     "name": "stdout",
     "output_type": "stream",
     "text": [
      "The pet's color is **blue**.\n"
     ]
    }
   ],
   "source": [
    "# Upload a PDF file to the model only one page file sample input\n",
    "sample_pdf = genai.upload_file(\"D:/data science/projects/my projects/Health Summary Generator/Media/sample_input (1).pdf\")\n",
    "\n",
    "# Generate content using the model, providing a prompt and the uploaded PDF\n",
    "response = model.generate_content(['Color', sample_pdf])\n",
    "\n",
    "# Print the generated response text from the model\n",
    "print(response.text)"
   ]
  },
  {
   "cell_type": "code",
   "execution_count": null,
   "metadata": {},
   "outputs": [
    {
     "name": "stdout",
     "output_type": "stream",
     "text": [
      "Buckshot\n"
     ]
    }
   ],
   "source": [
    "# Generate content using the model, providing a prompt and the uploaded PDF\n",
    "response = model.generate_content(['Name of the Patient',sample_pdf])\n",
    "\n",
    "# Print the generated response text from the model\n",
    "print(response.text)"
   ]
  },
  {
   "cell_type": "code",
   "execution_count": null,
   "metadata": {},
   "outputs": [
    {
     "name": "stdout",
     "output_type": "stream",
     "text": [
      "French Bulldog\n"
     ]
    }
   ],
   "source": [
    "# Generate content using the model, providing a prompt and the uploaded PDF\n",
    "response = model.generate_content(['Name of the BREED',sample_pdf])\n",
    "\n",
    "# Print the generated response text from the model\n",
    "print(response.text)"
   ]
  },
  {
   "cell_type": "code",
   "execution_count": null,
   "metadata": {},
   "outputs": [
    {
     "name": "stdout",
     "output_type": "stream",
     "text": [
      "The dog is 6 years old, having been born on February 28, **2018**.  Therefore the relevant age is **2018**.\n"
     ]
    }
   ],
   "source": [
    "# Generate content using the model, providing a prompt and the uploaded PDF\n",
    "response = model.generate_content(['Name of the Age',sample_pdf])\n",
    "\n",
    "# Print the generated response text from the model\n",
    "print(response.text)"
   ]
  },
  {
   "cell_type": "code",
   "execution_count": null,
   "metadata": {},
   "outputs": [
    {
     "name": "stdout",
     "output_type": "stream",
     "text": [
      "DOB: **Feb 28, 2018**\n"
     ]
    }
   ],
   "source": [
    "# Generate content using the model, providing a prompt and the uploaded PDF\n",
    "response = model.generate_content(['DOB',sample_pdf])\n",
    "\n",
    "# Print the generated response text from the model\n",
    "print(response.text)"
   ]
  },
  {
   "cell_type": "code",
   "execution_count": null,
   "metadata": {},
   "outputs": [
    {
     "name": "stdout",
     "output_type": "stream",
     "text": [
      "**Patient Information**\n",
      "\n",
      "* Name: Buckshot\n",
      "* Owner: Teleah Grand\n",
      "* Species: Canine\n",
      "* Breed: French Bulldog\n",
      "* Sex: Neutered Male\n",
      "* Age: 6 years\n",
      "* Date of Birth: Feb 28, 2018\n",
      "* Color: Blue\n",
      "* Markings: White down neck & chest\n",
      "* ID: 20005\n",
      "* Rabies: 432943\n",
      "* Microchip: 981020021462501\n",
      "* Phone: 214-563-1688\n",
      "* Address: 2200 Victory Ave #702, Dallas, TX 75219\n",
      "* Diet: Yin & Qi Stew (made by Dr. Grand ONLY)\n",
      "* Medications: Triheart, Bravecto, LongDan, Epimedium, SiWuXiaoFeng\n",
      "\n",
      "**Reminders/Alerts**\n",
      "\n",
      "* **DO NOT VACCINATE** (Multiple entries)\n",
      "* Rabies Vaccination due\n",
      "* DA2P (Distemper, Adenovirus type 2, Parvovirus) Vaccination due\n",
      "* Comprehensive Physical Exam recommended\n",
      "* Bordetella due\n",
      "* Heartworm test due\n",
      "* Fecal test due\n",
      "* Patient opens doors (manual alert)\n",
      "* No Azathioprine\n",
      "* GI Upset - careful with treats\n",
      "\n",
      "**Weight History**\n",
      "\n",
      "* Sep 12, 2024: 26.00 lbs\n",
      "* May 08, 2024: 25.50 lbs\n",
      "* May 03, 2023: 20.40 lbs\n",
      "* Feb 28, 2023: 21.50 lbs\n",
      "\n",
      "**Recalls (Upcoming Appointments)**\n",
      "\n",
      "Several unconfirmed recalls related to wellness exams, vaccinations, and bloodwork.  Specific dates and reasons are listed on the chart.  One important note indicates renal values were stable, but rods were found in the urine, and a Convenia injection was given with a referral to ADC.\n",
      "\n",
      "**Medical History (Recent Visits and Prescriptions)**\n",
      "\n",
      "* Oct 14, 2024: Prescribed Concentrated Si Wu Xiao Feng 90g Powder\n",
      "* Sep 18, 2024: Referral report; Reason for visit: Boarding; Referral report from Animal Biome Gut Microbiome Report.\n",
      "* Sep 13, 2024: Prescribed Prednisone 5mg (30 tablets). Instructions to give ½ tablet by mouth every evening. Note about potential side effects (increased thirst, urination, appetite).\n",
      "\n",
      "\n",
      "This is a summary of the visible information.  The chart indicates there are multiple pages, so this is not a complete record.\n",
      "\n"
     ]
    }
   ],
   "source": [
    "# Generate content using the model, providing a prompt and the uploaded PDF\n",
    "response = model.generate_content(['Reminders',sample_pdf])\n",
    "\n",
    "# Print the generated response text from the model\n",
    "print(response.text)"
   ]
  }
 ],
 "metadata": {
  "kernelspec": {
   "display_name": ".venv",
   "language": "python",
   "name": "python3"
  },
  "language_info": {
   "codemirror_mode": {
    "name": "ipython",
    "version": 3
   },
   "file_extension": ".py",
   "mimetype": "text/x-python",
   "name": "python",
   "nbconvert_exporter": "python",
   "pygments_lexer": "ipython3",
   "version": "3.12.2"
  }
 },
 "nbformat": 4,
 "nbformat_minor": 2
}
